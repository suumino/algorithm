{
  "nbformat": 4,
  "nbformat_minor": 0,
  "metadata": {
    "colab": {
      "name": "Colaboratory에 오신 것을 환영합니다",
      "provenance": [],
      "collapsed_sections": [],
      "include_colab_link": true
    },
    "kernelspec": {
      "display_name": "Python 3",
      "name": "python3"
    }
  },
  "cells": [
    {
      "cell_type": "markdown",
      "metadata": {
        "id": "view-in-github",
        "colab_type": "text"
      },
      "source": [
        "<a href=\"https://colab.research.google.com/github/suumino/algorithm/blob/main/20210413.ipynb\" target=\"_parent\"><img src=\"https://colab.research.google.com/assets/colab-badge.svg\" alt=\"Open In Colab\"/></a>"
      ]
    },
    {
      "cell_type": "code",
      "metadata": {
        "id": "LxN8wKMQB9Io",
        "outputId": "59afe185-fbcc-4943-ab5b-2a7d764c17c7",
        "colab": {
          "base_uri": "https://localhost:8080/"
        }
      },
      "source": [
        "def change(x, i, j) :\n",
        "  x[i], x[j] = x[j], x[i]\n",
        "\n",
        "def Select(x, l, r) :\n",
        "  select_val = x[l]\n",
        "  select_idx = 1\n",
        "  while l <= r:\n",
        "    while l <= r and x[l] <= select_val:\n",
        "      l += 1\n",
        "    while l <= r and x[r] >= select_val:\n",
        "      r -= 1\n",
        "    if l <= r:\n",
        "      change(x, l, r)\n",
        "      l =+ 1\n",
        "      r -= 1\n",
        "  change(x, select_idx, r)\n",
        "  return r\n",
        "\n",
        "def quickSort(x, pivotMethod = Select) :\n",
        "  def Qsort(x, first, last) :\n",
        "    if first < last :\n",
        "      splitP = pivotMethod(x, first, last)\n",
        "      Qsort(x, first, splitP-1)\n",
        "      Qsort(x, splitP+1, last)\n",
        "  Qsort(x, 0, len(x)-1)\n",
        "\n",
        "x = [5, 2, 8, 6, 1, 9, 3, 7]\n",
        "quickSort(x)\n",
        "print(x)"
      ],
      "execution_count": 15,
      "outputs": [
        {
          "output_type": "stream",
          "text": [
            "[5, 8, 1, 2, 3, 9, 7, 6]\n"
          ],
          "name": "stdout"
        }
      ]
    },
    {
      "cell_type": "code",
      "metadata": {
        "id": "iC0E3ndNFNx4",
        "outputId": "32bad6a8-cdf0-4a37-9b73-bb6262f5fa6f",
        "colab": {
          "base_uri": "https://localhost:8080/"
        }
      },
      "source": [
        "def Quick_sort(a):\n",
        "    n=len(a)\n",
        "    if n<=1:\n",
        "        return a\n",
        "    pivot = a[-1]\n",
        "    g_left=[]\n",
        "    g_right=[]\n",
        "    for i in range(0,n-1):\n",
        "        if a[i]<=pivot:\n",
        "            g_left.append(a[i])\n",
        "        else:\n",
        "            g_right.append(a[i])\n",
        "    return Quick_sort(g_left)+[pivot]+Quick_sort(g_right)\n",
        "\n",
        "d=[8,12,1,9,102,25,32,98,31]\n",
        "print(Quick_sort(d))\n"
      ],
      "execution_count": 14,
      "outputs": [
        {
          "output_type": "stream",
          "text": [
            "[1, 8, 9, 12, 25, 31, 32, 98, 102]\n"
          ],
          "name": "stdout"
        }
      ]
    },
    {
      "cell_type": "code",
      "metadata": {
        "id": "1xY1ZtAdGuqY",
        "outputId": "2211b6b1-e33e-4bae-8fbf-b616c09e41ab",
        "colab": {
          "base_uri": "https://localhost:8080/"
        }
      },
      "source": [
        "def bsort(nums):\n",
        "  for i in range(len(nums)-1):\n",
        "    for j in range(len(nums)-1-i):\n",
        "      if nums[j] > nums[j+1]:\n",
        "        nums[j], nums[j+1] = nums[j+1], nums[j]\n",
        "  return nums\n",
        "\n",
        "\n",
        "\n",
        "print(bsort([5, 4, 1, 2, 3]))"
      ],
      "execution_count": 19,
      "outputs": [
        {
          "output_type": "stream",
          "text": [
            "[1, 2, 3, 4, 5]\n"
          ],
          "name": "stdout"
        }
      ]
    },
    {
      "cell_type": "code",
      "metadata": {
        "id": "V5W2PoNjNXGV"
      },
      "source": [
        ""
      ],
      "execution_count": null,
      "outputs": []
    }
  ]
}
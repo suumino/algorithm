{
  "nbformat": 4,
  "nbformat_minor": 0,
  "metadata": {
    "colab": {
      "name": "Colaboratory에 오신 것을 환영합니다",
      "provenance": [],
      "collapsed_sections": [],
      "include_colab_link": true
    },
    "kernelspec": {
      "display_name": "Python 3",
      "name": "python3"
    }
  },
  "cells": [
    {
      "cell_type": "markdown",
      "metadata": {
        "id": "view-in-github",
        "colab_type": "text"
      },
      "source": [
        "<a href=\"https://colab.research.google.com/github/suumino/algorithm/blob/main/20210414.ipynb\" target=\"_parent\"><img src=\"https://colab.research.google.com/assets/colab-badge.svg\" alt=\"Open In Colab\"/></a>"
      ]
    },
    {
      "cell_type": "code",
      "metadata": {
        "id": "AavZSZV0Jfqv",
        "outputId": "8908ef82-39ba-4165-9809-b42cf496219a",
        "colab": {
          "base_uri": "https://localhost:8080/"
        }
      },
      "source": [
        "def is_prime(a):\n",
        "  re = 0\n",
        "  d = ''\n",
        "  for i in range(2, a):\n",
        "    if a % i == 0:\n",
        "      re += 1\n",
        "\n",
        "  if re == 0:\n",
        "    d = \"True\"\n",
        "  else : \n",
        "    d = \"False\"\n",
        "  return d\n",
        "\n",
        "\n",
        "a = int(input(\"숫자 입력 : \"))\n",
        "print(\"%d는 소수이다.\" %a)\n",
        "print(is_prime(a))"
      ],
      "execution_count": 12,
      "outputs": [
        {
          "output_type": "stream",
          "text": [
            "[]\n",
            "숫자 입력 : 13\n",
            "13는 소수이다.\n",
            "True\n"
          ],
          "name": "stdout"
        }
      ]
    },
    {
      "cell_type": "code",
      "metadata": {
        "id": "37DpoJGnKVGC",
        "outputId": "5c9fc795-522d-43fe-f0e9-f0fdbddcfe1b",
        "colab": {
          "base_uri": "https://localhost:8080/"
        }
      },
      "source": [
        "a = range(1, 101)\n",
        "prime_numbers = []\n",
        "for i in a:\n",
        "  c = is_prime(i)\n",
        "  if c == True:\n",
        "    prime_numbers.append(i)\n",
        "print(prime_numbers)"
      ],
      "execution_count": 11,
      "outputs": [
        {
          "output_type": "stream",
          "text": [
            "[]\n"
          ],
          "name": "stdout"
        }
      ]
    },
    {
      "cell_type": "code",
      "metadata": {
        "id": "Osw3zvg9L-gl",
        "outputId": "46807d1d-f7e8-441f-da83-ca0d76f3ed80",
        "colab": {
          "base_uri": "https://localhost:8080/"
        }
      },
      "source": [
        "def solution(n):\n",
        "  answer = 0\n",
        "  number = []\n",
        "\n",
        "  for i in range(n + 1):\n",
        "    number.append(i)\n",
        "\n",
        "  for i in range(2, n+1, 1):\n",
        "    if i == -1:\n",
        "      continue\n",
        "    j = 0\n",
        "    for j in range(i+j, n+1, i):\n",
        "      number[j] = -1\n",
        "\n",
        "  for i in range(2, n+1):\n",
        "    if number[i] != -1:\n",
        "      answer += 1\n",
        "  return answer\n",
        "\n",
        "\n",
        "print(solution(5))"
      ],
      "execution_count": 27,
      "outputs": [
        {
          "output_type": "stream",
          "text": [
            "0\n"
          ],
          "name": "stdout"
        }
      ]
    },
    {
      "cell_type": "code",
      "metadata": {
        "id": "lZu9pNaBOZsd",
        "outputId": "d756ec9d-b988-4b9c-d036-cfd622e56b1e",
        "colab": {
          "base_uri": "https://localhost:8080/"
        }
      },
      "source": [
        "def ccc(a):\n",
        "  n = 0\n",
        "  for i in range(2, a):\n",
        "    re = 0\n",
        "    for j in range(2, a):\n",
        "      if i % j == 0:\n",
        "        re += 1\n",
        "    if re == 1:\n",
        "      print(i, end=' ')\n",
        "      n += 1\n",
        "  return n\n",
        "\n",
        "a = int(input(\"숫자 입력 : \"))\n",
        "print(\"소수 :\", ccc(a), \"개\")"
      ],
      "execution_count": 29,
      "outputs": [
        {
          "output_type": "stream",
          "text": [
            "숫자 입력 : 100\n",
            "2 3 5 7 11 13 17 19 23 29 31 37 41 43 47 53 59 61 67 71 73 79 83 89 97 소수 : 25 개\n"
          ],
          "name": "stdout"
        }
      ]
    },
    {
      "cell_type": "code",
      "metadata": {
        "id": "lLzG-v7kaGxJ",
        "outputId": "2aa922f3-ce14-4bac-85ae-17dc9f724aa8",
        "colab": {
          "base_uri": "https://localhost:8080/"
        }
      },
      "source": [
        "def solution(n):\n",
        "  answer = []\n",
        "  number = []\n",
        "\n",
        "  for i in range(n + 1):\n",
        "    number.append(i)\n",
        "\n",
        "  for i in range(2, n+1, 1):\n",
        "    if i == -1:\n",
        "      continue\n",
        "    j = 0\n",
        "    for j in range(i+i, n+1, i):\n",
        "      number[j] = -1\n",
        "\n",
        "  for i in range(2, n+1):\n",
        "    if number[i] != -1:\n",
        "      answer.append(number[i])\n",
        "  return answer\n",
        "\n",
        "\n",
        "print(solution(100))"
      ],
      "execution_count": 32,
      "outputs": [
        {
          "output_type": "stream",
          "text": [
            "[2, 3, 5, 7, 11, 13, 17, 19, 23, 29, 31, 37, 41, 43, 47, 53, 59, 61, 67, 71, 73, 79, 83, 89, 97]\n"
          ],
          "name": "stdout"
        }
      ]
    },
    {
      "cell_type": "code",
      "metadata": {
        "id": "2pKUcPlMb0FG"
      },
      "source": [
        ""
      ],
      "execution_count": null,
      "outputs": []
    }
  ]
}
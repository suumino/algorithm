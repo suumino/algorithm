{
  "nbformat": 4,
  "nbformat_minor": 0,
  "metadata": {
    "colab": {
      "name": "Colaboratory에 오신 것을 환영합니다",
      "provenance": [],
      "collapsed_sections": [],
      "include_colab_link": true
    },
    "kernelspec": {
      "display_name": "Python 3",
      "name": "python3"
    }
  },
  "cells": [
    {
      "cell_type": "markdown",
      "metadata": {
        "id": "view-in-github",
        "colab_type": "text"
      },
      "source": [
        "<a href=\"https://colab.research.google.com/github/suumino/algorithm/blob/main/20210407.ipynb\" target=\"_parent\"><img src=\"https://colab.research.google.com/assets/colab-badge.svg\" alt=\"Open In Colab\"/></a>"
      ]
    },
    {
      "cell_type": "code",
      "metadata": {
        "id": "sR6BFfXmRUTP",
        "outputId": "5404b3bc-1c11-44b0-f7cf-07febed56d5f",
        "colab": {
          "base_uri": "https://localhost:8080/"
        }
      },
      "source": [
        "\n",
        "def search(a):                          # 함수 생성\n",
        "  for i in range(len(a)):               # 리스트 안에서\n",
        "    if a[i] == 5:                       # 5가 있으면\n",
        "      print(i, '번째의 요소가 일치')    # 몇번째 요소인지 출력\n",
        "    if 5 not in a:                      # 없으면\n",
        "      print(\"찾지 못했습니다.\")         # 못찾았다 출력\n",
        "      break;                            # 반복 끝내기\n",
        "\n",
        "a = [4, 2, 3, 5, 1]                      # 리스트 입력\n",
        "search(a)                                # 함수 호출"
      ],
      "execution_count": 59,
      "outputs": [
        {
          "output_type": "stream",
          "text": [
            "3 번째의 요소가 일치\n"
          ],
          "name": "stdout"
        }
      ]
    }
  ]
}
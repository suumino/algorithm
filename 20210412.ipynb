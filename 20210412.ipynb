{
  "nbformat": 4,
  "nbformat_minor": 0,
  "metadata": {
    "colab": {
      "name": "Colaboratory에 오신 것을 환영합니다",
      "provenance": [],
      "collapsed_sections": [],
      "include_colab_link": true
    },
    "kernelspec": {
      "display_name": "Python 3",
      "name": "python3"
    }
  },
  "cells": [
    {
      "cell_type": "markdown",
      "metadata": {
        "id": "view-in-github",
        "colab_type": "text"
      },
      "source": [
        "<a href=\"https://colab.research.google.com/github/suumino/algorithm/blob/main/20210412.ipynb\" target=\"_parent\"><img src=\"https://colab.research.google.com/assets/colab-badge.svg\" alt=\"Open In Colab\"/></a>"
      ]
    },
    {
      "cell_type": "code",
      "metadata": {
        "id": "FX7dh-Cl2LCZ",
        "outputId": "0c5c80ea-910f-4a45-c37b-15d38415dce5",
        "colab": {
          "base_uri": "https://localhost:8080/"
        }
      },
      "source": [
        "array = [12, 13, 11, 14, 10]             # 리스트\n",
        "\n",
        "a = []                                   # 정렬한 리스트\n",
        "\n",
        "for i in range(5):                       # array의 길이동안\n",
        "  a.append(min(array))                   # array의 최솟값을 a에 추가\n",
        "  del array[array.index(min(array))]     # array의 최솟값 제거\n",
        "print(a)                                 # 출력"
      ],
      "execution_count": 9,
      "outputs": [
        {
          "output_type": "stream",
          "text": [
            "[10, 11, 12, 13, 14]\n"
          ],
          "name": "stdout"
        }
      ]
    },
    {
      "cell_type": "code",
      "metadata": {
        "id": "aySkWcqT2jwH",
        "outputId": "a5bf78a9-30c7-4f22-9705-b2e66f5bc690",
        "colab": {
          "base_uri": "https://localhost:8080/"
        }
      },
      "source": [
        "array = [12, 13, 11, 14, 10]\n",
        "\n",
        "a = 0\n",
        "for i in range(0, 5):\n",
        "  k = max(array)\n",
        "  for j in range(i, 5):\n",
        "    if array[j]<=k:\n",
        "      k = array[j]\n",
        "  array[array.index(k)], array[i] = array[i], array[array.index(k)]\n",
        "\n",
        "print(array)\n",
        "\n"
      ],
      "execution_count": 45,
      "outputs": [
        {
          "output_type": "stream",
          "text": [
            "[10, 11, 12, 13, 14]\n"
          ],
          "name": "stdout"
        }
      ]
    },
    {
      "cell_type": "code",
      "metadata": {
        "id": "n16lvqFi9fKU",
        "outputId": "87702aa3-a877-4c33-c64c-dfe8b5ddc3e8",
        "colab": {
          "base_uri": "https://localhost:8080/"
        }
      },
      "source": [
        "def SSort(array):\n",
        "  for i in range(len(array)):\n",
        "    indexMin = i                      # 임시로 인덱스 0 넣어버림 ㅋ\n",
        "    for j in range(i+1, len(array)):\n",
        "      if array[j] < array[indexMin]:  # 0번째와 1번째 비교\n",
        "        indexMin = j\n",
        "    array[i], array[indexMin] = array[indexMin], array[i]\n",
        "  return array\n",
        "\n",
        "array = [12, 13, 11, 14, 10]\n",
        "print(SSort(array))"
      ],
      "execution_count": 53,
      "outputs": [
        {
          "output_type": "stream",
          "text": [
            "[10, 11, 12, 13, 14]\n"
          ],
          "name": "stdout"
        }
      ]
    },
    {
      "cell_type": "code",
      "metadata": {
        "id": "8vwwVGw7CKtu",
        "outputId": "c7c66e22-0f24-406b-b374-dc8ad3b5389e",
        "colab": {
          "base_uri": "https://localhost:8080/"
        }
      },
      "source": [
        "array = [12, 13, 11, 14, 10]\n",
        "\n",
        "for i in range(len(array)):\n",
        "  w = array[i]\n",
        "  indexMin = array.index(min(array[i:]))\n",
        "  array[i] = array[indexMin]\n",
        "  array[indexMin] = w\n",
        "print(array)"
      ],
      "execution_count": 54,
      "outputs": [
        {
          "output_type": "stream",
          "text": [
            "[10, 11, 12, 13, 14]\n"
          ],
          "name": "stdout"
        }
      ]
    },
    {
      "cell_type": "code",
      "metadata": {
        "id": "W9-LRHPsECZV",
        "outputId": "194f4619-d222-4a6c-a3f3-3d067b84afbd",
        "colab": {
          "base_uri": "https://localhost:8080/"
        }
      },
      "source": [
        "array = [5, 3, 4, 1, 2]\n",
        "for i in range(0, 5):\n",
        "  for j in range(1, 5):\n",
        "    if array[j] < array[j-1]:\n",
        "      array[j], array[j-1] = array[j-1], array[j]\n",
        "    j -= 1\n",
        "\n",
        "print(array)\n"
      ],
      "execution_count": 82,
      "outputs": [
        {
          "output_type": "stream",
          "text": [
            "[1, 2, 3, 4, 5]\n"
          ],
          "name": "stdout"
        }
      ]
    },
    {
      "cell_type": "code",
      "metadata": {
        "id": "lBFOI-kPJJQp"
      },
      "source": [
        ""
      ],
      "execution_count": null,
      "outputs": []
    }
  ]
}